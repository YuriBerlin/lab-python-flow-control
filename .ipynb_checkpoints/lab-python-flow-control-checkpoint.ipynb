{
 "cells": [
  {
   "cell_type": "markdown",
   "id": "d3bfc191-8885-42ee-b0a0-bbab867c6f9f",
   "metadata": {
    "tags": []
   },
   "source": [
    "# Lab | Flow Control"
   ]
  },
  {
   "cell_type": "markdown",
   "id": "3851fcd1-cf98-4653-9c89-e003b7ec9400",
   "metadata": {},
   "source": [
    "## Exercise: Managing Customer Orders Optimized\n",
    "\n",
    "In the last lab, you were starting an online store that sells various products. To ensure smooth operations, you developed a program that manages customer orders and inventory.\n",
    "\n",
    "You did so without using flow control. Let's go a step further and improve this code.\n",
    "\n",
    "Follow the steps below to complete the exercise:\n",
    "\n",
    "1. Look at your code from the lab data structures, and improve repeated code with loops.\n",
    "\n",
    "2. Instead of asking the user to input the name of three products that a customer wants to order, do the following:\n",
    "    \n",
    "    a. Prompt the user to enter the name of a product that a customer wants to order.\n",
    "    \n",
    "    b. Add the product name to the \"customer_orders\" set.\n",
    "    \n",
    "    c. Ask the user if they want to add another product (yes/no).\n",
    "    \n",
    "    d. Continue the loop until the user does not want to add another product.\n",
    "\n",
    "3. Instead of updating the inventory by subtracting 1 from the quantity of each product, only do it for  the products that were ordered (those in \"customer_orders\")."
   ]
  },
  {
   "cell_type": "code",
   "execution_count": 6,
   "id": "188173fd",
   "metadata": {},
   "outputs": [
    {
     "name": "stdout",
     "output_type": "stream",
     "text": [
      "\n",
      "\n",
      "\n",
      "t-shirt\n",
      "Please enter quantity of the product 1\n",
      "\n",
      "\n",
      "\n",
      "mug\n",
      "Please enter quantity of the product 1\n",
      "\n",
      "\n",
      "\n",
      "hat\n",
      "Please enter quantity of the product 1\n",
      "\n",
      "\n",
      "\n",
      "book\n",
      "Please enter quantity of the product 1\n",
      "\n",
      "\n",
      "\n",
      "keychain\n",
      "Please enter quantity of the product 1\n",
      "{'t-shirt': 1, 'mug': 1, 'hat': 1, 'book': 1, 'keychain': 1}\n",
      "\n",
      "Please enter a product you would like to purchase: hat\n",
      "Added\n",
      "\n",
      "Do you want to choose an other product, 1 - yes, 0 - no: 1\n",
      "\n",
      "Please enter a product you would like to purchase: book\n",
      "Added\n",
      "\n",
      "Do you want to choose an other product, 1 - yes, 0 - no: 0\n",
      "\n",
      " Following products were ordered:\n",
      "\n",
      " hat\n",
      "\n",
      " book\n",
      "\n",
      "Updated inventory:\n",
      "t-shirt  -  1\n",
      "mug  -  1\n",
      "hat  -  0\n",
      "book  -  0\n",
      "keychain  -  1\n"
     ]
    }
   ],
   "source": [
    "products = [\"t-shirt\", \"mug\", \"hat\", \"book\", \"keychain\"]\n",
    "\n",
    "inventory = {}\n",
    "\n",
    "for i in products:\n",
    "    print(\"\\n\\n\")\n",
    "    print(i)\n",
    "    x = input(\"Please enter quantity of the product \")\n",
    "    inventory[i] = int(x)\n",
    "\n",
    "print(inventory)\n",
    "\n",
    "customer_orders = set()\n",
    "\n",
    "choice = 1\n",
    "\n",
    "while choice == 1:\n",
    "    x = input(\"\\nPlease enter a product you would like to purchase: \")\n",
    "    if x in inventory and inventory[x]>0:\n",
    "        customer_orders.add(x)\n",
    "        print (\"Added\")\n",
    "    elif x in inventory and inventory[x]==0:\n",
    "        print (\"Sorry, this product is sold out\")\n",
    "    else:\n",
    "        print (\"No such a product\") \n",
    "    choice = int(input(\"\\nDo you want to choose an other product, 1 - yes, 0 - no: \"))\n",
    "\n",
    "print (\"\\n Following products were ordered:\")\n",
    "for i in customer_orders:    \n",
    "    print (\"\\n\", i)\n",
    "\n",
    "print(\"\\nUpdated inventory:\")\n",
    "\n",
    "for i in inventory:\n",
    "    if inventory[i] > 0 and (i in customer_orders):\n",
    "        inventory[i] =  inventory[i]-1\n",
    "    print(i,\" - \", inventory[i])"
   ]
  }
 ],
 "metadata": {
  "kernelspec": {
   "display_name": "Python 3 (ipykernel)",
   "language": "python",
   "name": "python3"
  },
  "language_info": {
   "codemirror_mode": {
    "name": "ipython",
    "version": 3
   },
   "file_extension": ".py",
   "mimetype": "text/x-python",
   "name": "python",
   "nbconvert_exporter": "python",
   "pygments_lexer": "ipython3",
   "version": "3.11.5"
  }
 },
 "nbformat": 4,
 "nbformat_minor": 5
}
